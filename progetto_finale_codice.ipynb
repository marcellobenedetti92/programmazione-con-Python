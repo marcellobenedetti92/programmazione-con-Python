{
  "cells": [
    {
      "cell_type": "markdown",
      "metadata": {
        "id": "view-in-github",
        "colab_type": "text"
      },
      "source": [
        "<a href=\"https://colab.research.google.com/github/marcellobenedetti92/programmazione-con-python/blob/main/progetto_finale_codice.ipynb\" target=\"_parent\"><img src=\"https://colab.research.google.com/assets/colab-badge.svg\" alt=\"Open In Colab\"/></a>"
      ]
    },
    {
      "cell_type": "markdown",
      "metadata": {
        "id": "MfV_c9CUermh"
      },
      "source": [
        "# Functions"
      ]
    },
    {
      "cell_type": "markdown",
      "metadata": {
        "id": "w44s0Ec1o_vF"
      },
      "source": [
        "### CSV check"
      ]
    },
    {
      "cell_type": "code",
      "execution_count": null,
      "metadata": {
        "id": "GhfueqRPpDf0"
      },
      "outputs": [],
      "source": [
        "def csv_check(file_path):\n",
        "\n",
        "  if not \"store.csv\" in os.listdir():\n",
        "    print(\"Il file store.csv non è stato trovato.\")\n",
        "    print(\"Sto creando un file store.csv per te ...\")\n",
        "\n",
        "    # dataframe creation\n",
        "    # non serve usare pandas, basta usare la funzione open\n",
        "    # f = open(file_path, \"w\")\n",
        "    # f.write(\"name, quantity,single_sale_price,single_pur_price,quantity_sold,tot_sold,tot_bought\")\n",
        "    # f.close()\n",
        "    df = pd.DataFrame(columns=[\"name\", \"quantity\", \"single_sale_price\", \"single_pur_price\", \"quantity_sold\", \"tot_sold\", \"tot_bought\"])\n",
        "    df.to_csv(file_path, index = False)\n",
        "    print(\"Il file store.csv è stato creato.\\n\")"
      ]
    },
    {
      "cell_type": "markdown",
      "metadata": {
        "id": "ePK0Dkt1fbud"
      },
      "source": [
        "### Add"
      ]
    },
    {
      "cell_type": "code",
      "execution_count": null,
      "metadata": {
        "id": "fqJm44U16qC3"
      },
      "outputs": [],
      "source": [
        "def add_products(file_path,df):\n",
        "\n",
        "  # ask for input\n",
        "  name = str(input(\"\\nNome del prodotto: \\n\"))\n",
        "\n",
        "  # if products not exist, check format\n",
        "  if name not in df.values:\n",
        "      \n",
        "      quantity = int(input(f\"\\nQuantità: \"))\n",
        "      assert quantity >= 0, \"Il valore deve essere positivo\"\n",
        "\n",
        "      single_sale_price = float(input(f\"\\nPrezzo di vendita: \"))\n",
        "      assert single_sale_price >= 0, \"Il valore deve essere positivo\"\n",
        "      \n",
        "      single_pur_price = float(input(f\"\\nPrezzo di acquisto: \"))\n",
        "      assert single_pur_price >= 0, \"Il valore deve essere positivo\"\n",
        "\n",
        "      # put new products in last pandas data frame raw\n",
        "      df = df.append({\"name\": name, \"quantity\": quantity, \"single_sale_price\": single_sale_price, \"single_pur_price\": single_pur_price}, ignore_index=True)\n",
        "\n",
        "\n",
        "  else:\n",
        "\n",
        "      quantity = int(input(\"Quantità: \"))\n",
        "      assert quantity >= 0, \"Il valore deve essere positivo\"\n",
        "\n",
        "      index_prod = pd.Index(list(df[\"name\"])).get_loc(name)\n",
        "      prod_quantity = df[\"quantity\"].iloc[index_prod]\n",
        "      new_quantity = prod_quantity + quantity\n",
        "      df.at[index_prod, \"quantity\"] = new_quantity\n",
        "\n",
        "  print(f\"\\nAGGIUNTO: {quantity} X {name}\\n\")\n",
        "  df.to_csv(file_path, index = False, na_rep=float(0))"
      ]
    },
    {
      "cell_type": "markdown",
      "metadata": {
        "id": "Si-I6C5TbjhR"
      },
      "source": [
        "### Sell"
      ]
    },
    {
      "cell_type": "code",
      "execution_count": null,
      "metadata": {
        "id": "MQ85AYjIblHu"
      },
      "outputs": [],
      "source": [
        "def sell_products(file_path, df):\n",
        "\n",
        "  try:\n",
        "\n",
        "    name = input(\"\\nNome del prodotto: \").lower()\n",
        "    assert name in df.values, \"Il prodotto non esiste nello store, provane un altro.\\n\"\n",
        "\n",
        "    # products index finder\n",
        "    # esistono soluzioni migliori per fare la ricerca\n",
        "    # guarda qui https://stackoverflow.com/a/41255229/1694316\n",
        "\n",
        "    prod_index = pd.Index(list(df[\"name\"])).get_loc(name)\n",
        "    prod_quantity = df[\"quantity\"].iloc[prod_index]\n",
        "    single_sale_price = float(df[\"single_sale_price\"].iloc[prod_index])\n",
        "    \n",
        "    # check if quantity is in the store\n",
        "\n",
        "    quantity_to_sell = int(input(\"\\nQuantità: \"))\n",
        "\n",
        "    assert quantity_to_sell >= 0, \"Il valore deve essere positivo\"\n",
        "\n",
        "    assert quantity_to_sell <= prod_quantity, \"Non ci sono abbastanza prodotti\"\n",
        "\n",
        "    # sold and append new value \n",
        "\n",
        "    new_total_quantity = prod_quantity - quantity_to_sell \n",
        "    tot_price = quantity_to_sell * single_sale_price\n",
        "    tot_list.append(tot_price)\n",
        "    items_to_print.append([name, new_total_quantity, quantity_to_sell, single_sale_price])\n",
        "      \n",
        "    #add product\n",
        "\n",
        "    add_more_product = input(\"\\nAggiungere un altro prodotto? (si/no): \")\n",
        "\n",
        "    if add_more_product.lower() == \"si\":\n",
        "      sell_products(file_path, df)\n",
        "\n",
        "    else: \n",
        "      print(\"\\nVENDITA REGISTRATA\")\n",
        "\n",
        "      for p, nq, q, pr in items_to_print: # read sold element list and print\n",
        "        index_p = pd.Index(list(df[\"name\"])).get_loc(p)\n",
        "        df.at[index_p, \"quantity\"] = nq\n",
        "        df.at[index_p, \"quantity_sold\"] += q\n",
        "        print(f\"{q} X {p}: €{pr} \\n\")\n",
        "\n",
        "\n",
        "      #print(items_to_print) per DEBUG\n",
        "\n",
        "        \n",
        "      tot = sum(tot_list) # calculate and print total sold\n",
        "      print(f\"Totale: {tot:.2f} €\\n\")\n",
        " \n",
        "    df.to_csv(file_path, index = False)\n",
        "\n",
        "    items_to_print.clear()\n",
        "    tot_list.clear()\n",
        "\n",
        "  except Exception as e:\n",
        "    print(e,\"\\n\")\n",
        "    return sell_products(file_path, df)"
      ]
    },
    {
      "cell_type": "markdown",
      "metadata": {
        "id": "Fy5QdLv_DPBT"
      },
      "source": [
        "### Profit"
      ]
    },
    {
      "cell_type": "code",
      "execution_count": null,
      "metadata": {
        "id": "nE4Y2HV6DXQv"
      },
      "outputs": [],
      "source": [
        "def profit():\n",
        "\n",
        "  gross_profit = sum(df[\"tot_sold\"])\n",
        "  net_profit = gross_profit - sum(df[\"tot_bought\"])\n",
        "\n",
        "  print(f\"\\nProfitto: lordo = €{gross_profit:.2f} netto = €{net_profit:.2f}\\n\")"
      ]
    },
    {
      "cell_type": "markdown",
      "metadata": {
        "id": "stRqiwfGfe2q"
      },
      "source": [
        "### List"
      ]
    },
    {
      "cell_type": "code",
      "execution_count": null,
      "metadata": {
        "id": "K8n_K0tWfEcX"
      },
      "outputs": [],
      "source": [
        "def list_products(df):\n",
        "\n",
        "  print (\"\\n{:<15} {:<15} {:<15}\".format(\"PRODOTTO\", \"QUANTITA'\", \"PREZZO\"))\n",
        "\n",
        "  for pr, qu, pz in zip(df.name, df.quantity, df.single_sale_price):\n",
        "    print(\"{:<15} {:<15} € {:<15}\".format(pr, qu, pz))\n",
        "\n",
        "  print(\"\\n\")"
      ]
    },
    {
      "cell_type": "markdown",
      "metadata": {
        "id": "cYBe-d5cXDHR"
      },
      "source": [
        "### Help"
      ]
    },
    {
      "cell_type": "code",
      "execution_count": null,
      "metadata": {
        "id": "mObWCNXLXMYd"
      },
      "outputs": [],
      "source": [
        "def help():\n",
        "  print(\"\\nI comandi disponibili sono i seguenti: \\n*aggiungi: aggiungi un prodotto al magazzino \\n*elenca: elenca i prodotto in magazzino \\n*vendita: registra una vendita effettuata \\n*profitti: mostra i profitti totali \\n*aiuto: mostra i possibili comandi \\n*chiudi: esci dal programma\\n\")"
      ]
    },
    {
      "cell_type": "markdown",
      "metadata": {
        "id": "4KtkVOwcBjjl"
      },
      "source": [
        "### Total update"
      ]
    },
    {
      "cell_type": "code",
      "execution_count": null,
      "metadata": {
        "id": "zpRwUxMRBisl"
      },
      "outputs": [],
      "source": [
        "def total_update(df, file_path):\n",
        "\n",
        "  # update values in tot_sold\n",
        "  tot_sold = round(df[\"quantity_sold\"]*df[\"single_sale_price\"],2)\n",
        "  df[\"tot_sold\"].update(list(tot_sold))\n",
        "\n",
        "  # update values in tot_bought\n",
        "  tot_bought = round((df[\"quantity_sold\"]+df[\"quantity\"])*df[\"single_pur_price\"],2)\n",
        "  df[\"tot_bought\"].update(list(tot_bought))\n",
        "\n",
        "  df.to_csv(file_path, index = False)"
      ]
    },
    {
      "cell_type": "markdown",
      "metadata": {
        "id": "mooa7DgEC3Au"
      },
      "source": [
        "# Main Loop"
      ]
    },
    {
      "cell_type": "code",
      "execution_count": null,
      "metadata": {
        "colab": {
          "background_save": true,
          "base_uri": "https://localhost:8080/"
        },
        "id": "bknFPoV8h26C",
        "outputId": "95fd467c-8ffe-46c0-d724-f102a48c6eea"
      },
      "outputs": [
        {
          "name": "stdout",
          "output_type": "stream",
          "text": [
            "\n",
            "AGGIUNTO: 20 X latte di soia\n",
            "\n",
            "\n",
            "PRODOTTO        QUANTITA'       PREZZO         \n",
            "latte di soia   20              € 1.4            \n",
            "\n",
            "\n",
            "\n",
            "AGGIUNTO: 10 X tofu\n",
            "\n",
            "\n",
            "Comando non valido. \n",
            "I comandi disponibili sono i seguenti:\n",
            "\n",
            "*aggiungi: aggiungi un prodotto al magazzino \n",
            "*elenca: elenca i prodotto in magazzino \n",
            "*vendita: registra una vendita effettuata \n",
            "*profitti: mostra i profitti totali \n",
            "*aiuto: mostra i possibili comandi \n",
            "*chiudi: esci dal programma\n",
            "\n",
            "\n",
            "AGGIUNTO: 5 X seitan\n",
            "\n",
            "\n",
            "PRODOTTO        QUANTITA'       PREZZO         \n",
            "latte di soia   20              € 1.4            \n",
            "tofu            10              € 4.19           \n",
            "seitan          5               € 5.49           \n",
            "\n",
            "\n",
            "\n",
            "VENDITA REGISTRATA\n",
            "5 X latte di soia: €1.4 \n",
            "\n",
            "2 X tofu: €4.19 \n",
            "\n",
            "Totale: 15.38 €\n",
            "\n",
            "\n",
            "PRODOTTO        QUANTITA'       PREZZO         \n",
            "latte di soia   15              € 1.4            \n",
            "tofu            8               € 4.19           \n",
            "seitan          5               € 5.49           \n",
            "\n",
            "\n",
            "\n",
            "VENDITA REGISTRATA\n",
            "5 X seitan: €5.49 \n",
            "\n",
            "Totale: 27.45 €\n",
            "\n",
            "\n",
            "PRODOTTO        QUANTITA'       PREZZO         \n",
            "latte di soia   15              € 1.4            \n",
            "tofu            8               € 4.19           \n",
            "seitan          0               € 5.49           \n",
            "\n",
            "\n",
            "\n",
            "Profitto: lordo = €42.83 netto = €-10.17\n",
            "\n",
            "Non ci sono abbastanza prodotti \n",
            "\n",
            "Il prodotto non esiste nello store, provane un altro.\n",
            " \n",
            "\n"
          ]
        }
      ],
      "source": [
        "import os\n",
        "import pandas as pd\n",
        "\n",
        "cmd = None\n",
        "items_to_print = []\n",
        "tot_list = []\n",
        "file_path = os.getcwd()+\"/store.csv\"\n",
        "csv_check(file_path)\n",
        "\n",
        "while cmd!=\"close\".lower():\n",
        "\n",
        "  df = pd.read_csv(file_path)\n",
        "  total_update(df, file_path)\n",
        "\n",
        "  cmd = input(\"Inserisci un comando: \")\n",
        "\n",
        "  if cmd==\"aggiungi\":\n",
        "    add_products(file_path,df)\n",
        "\n",
        "  elif cmd==\"vendita\":\n",
        "    sell_products(file_path,df)\n",
        "\n",
        "  elif cmd==\"profitti\":\n",
        "    profit()\n",
        "\n",
        "  elif cmd==\"elenca\":\n",
        "    list_products(df)\n",
        "\n",
        "  elif cmd==\"aiuto\":\n",
        "    help()\n",
        "\n",
        "  elif cmd==\"chiudi\":\n",
        "    print(\"\\nBye bye\") \n",
        "    # qui dovevi inserire un break per interrompere il programma, altrimenti il ciclo andrà avanti\n",
        "  else:\n",
        "    print(\"\\nComando non valido. \\nI comandi disponibili sono i seguenti:\\n\\n*aggiungi: aggiungi un prodotto al magazzino \\n*elenca: elenca i prodotto in magazzino \\n*vendita: registra una vendita effettuata \\n*profitti: mostra i profitti totali \\n*aiuto: mostra i possibili comandi \\n*chiudi: esci dal programma\\n\")"
      ]
    }
  ],
  "metadata": {
    "colab": {
      "collapsed_sections": [
        "w44s0Ec1o_vF",
        "ePK0Dkt1fbud",
        "Si-I6C5TbjhR",
        "Fy5QdLv_DPBT",
        "stRqiwfGfe2q",
        "cYBe-d5cXDHR",
        "4KtkVOwcBjjl",
        "mooa7DgEC3Au"
      ],
      "provenance": [],
      "include_colab_link": true
    },
    "kernelspec": {
      "display_name": "Python 3",
      "name": "python3"
    },
    "language_info": {
      "name": "python"
    }
  },
  "nbformat": 4,
  "nbformat_minor": 0
}